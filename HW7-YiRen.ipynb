{
 "cells": [
  {
   "cell_type": "markdown",
   "id": "19353082-8ece-4311-8524-f3ba3a411ebb",
   "metadata": {},
   "source": [
    "# Wine Quality Python Project\n",
    "\n",
    "Yi Ren\n",
    "\n",
    "The dataset is about [wine quality](https://archive.ics.uci.edu/ml/datasets/Wine+Quality) comes from the UCI Machine Learning Repository. For this homework, we need to create a document that goes through process of reading the data, combining it, manipulating/creating any variables, and fitting and choosing a final model for both the multiple linear regression modeling and the logistic regression modeling."
   ]
  },
  {
   "cell_type": "markdown",
   "id": "056ffa32-e95e-492b-971a-b4324bb8144b",
   "metadata": {},
   "source": [
    "## Read in and Combine Data\n",
    "### Read in two .csv files\n",
    "Read in the winequality-red.csv and winequality-white.csv files available on the uci machine learning repository site."
   ]
  },
  {
   "cell_type": "code",
   "execution_count": 59,
   "id": "6f213641-d9c8-42f8-b5b3-547b08a6dce7",
   "metadata": {},
   "outputs": [],
   "source": [
    "import pandas as pd\n",
    "red_df = pd.read_csv('winequality-red.csv', sep = ';')\n",
    "white_df = pd.read_csv('winequality-white.csv', sep = ';')"
   ]
  },
  {
   "cell_type": "markdown",
   "id": "6bc796ce-1a9e-4f25-89ed-63ce331fd640",
   "metadata": {},
   "source": [
    "### Combined datasets based on the type\n",
    "Combine these two datasets and create a new variable that represents the type of wine (red or white)"
   ]
  },
  {
   "cell_type": "code",
   "execution_count": 60,
   "id": "1cf6598d-a0d0-4885-a764-3bbaf9a8c7f9",
   "metadata": {},
   "outputs": [],
   "source": [
    "red_df['type'] = 'red'\n",
    "white_df['type'] = 'white'\n",
    "wine_df = pd.concat([red_df,white_df])"
   ]
  },
  {
   "cell_type": "markdown",
   "id": "6ff22cbd-1d6e-4e91-af87-72cb0615225f",
   "metadata": {},
   "source": [
    "## Split the Data"
   ]
  },
  {
   "cell_type": "markdown",
   "id": "130bc0f7-ebb7-4e43-b5a4-9fb313746033",
   "metadata": {},
   "source": [
    "Split up the data set into a training and test set. "
   ]
  },
  {
   "cell_type": "code",
   "execution_count": 61,
   "id": "29af2369-9598-4542-8820-96f900746449",
   "metadata": {},
   "outputs": [],
   "source": [
    "import numpy as np\n",
    "from sklearn.model_selection import train_test_split\n",
    "X_train, X_test, y_train, y_test = train_test_split(\n",
    "    wine_df.drop('alcohol', axis = 1),\n",
    "    wine_df['alcohol'], \n",
    "    test_size = 0.20,\n",
    "    random_state = 40)"
   ]
  },
  {
   "cell_type": "markdown",
   "id": "025f4b57-75aa-4b46-96ac-4f7b1d4399af",
   "metadata": {},
   "source": [
    "## Regression Task (alcohol as Response)"
   ]
  },
  {
   "cell_type": "markdown",
   "id": "a97273eb-33d1-4eef-be79-6b9f110d6050",
   "metadata": {},
   "source": [
    "### Train Models\n",
    "#### 1. Fit four different multiple linear regression models"
   ]
  },
  {
   "cell_type": "markdown",
   "id": "bd0662e5-280f-455a-a104-7bc9fbfc701b",
   "metadata": {},
   "source": [
    "+ MLR with fxied acidity, residual sugar, density, pH and sulphates"
   ]
  },
  {
   "cell_type": "code",
   "execution_count": 62,
   "id": "d47671d4-1c9f-4ae6-b875-8f6af6179da5",
   "metadata": {},
   "outputs": [],
   "source": [
    "from sklearn.model_selection import cross_validate\n",
    "from sklearn import linear_model\n",
    "mlr1 = linear_model.LinearRegression()\n",
    "cv1 = cross_validate(mlr1,\n",
    "                     X_train[['fixed acidity','residual sugar','density','pH','sulphates']].values,\n",
    "                     y_train.values,\n",
    "                     cv = 5,\n",
    "                     scoring = ('r2', 'neg_mean_squared_error'))"
   ]
  },
  {
   "cell_type": "markdown",
   "id": "0ba5c37f-2b08-49f3-bee8-91cfe8002408",
   "metadata": {},
   "source": [
    "+ MLR with fxied acidity, residual sugar, density, pH and sulphates with their interaction terms"
   ]
  },
  {
   "cell_type": "code",
   "execution_count": 63,
   "id": "214fe089-fd96-4f63-b6d7-d329bc7259d3",
   "metadata": {},
   "outputs": [],
   "source": [
    "from sklearn.preprocessing import PolynomialFeatures\n",
    "mlr2 = linear_model.LinearRegression()\n",
    "poly = PolynomialFeatures(interaction_only = True, include_bias = False)\n",
    "cv2 = cross_validate(mlr2,\n",
    "                     poly.fit_transform(X_train[['fixed acidity','residual sugar','density','pH','sulphates']].values),\n",
    "                     y_train.values,\n",
    "                     cv = 5,\n",
    "                     scoring = ('r2', 'neg_mean_squared_error'))"
   ]
  },
  {
   "cell_type": "markdown",
   "id": "6b37d7dd-08b4-4f41-bdbe-eea90cb62cac",
   "metadata": {},
   "source": [
    "+ MLR with residual sugar, density and pH with quadratic terms and interaction terms."
   ]
  },
  {
   "cell_type": "code",
   "execution_count": 64,
   "id": "78ef6362-6239-4962-8dcd-cc63d60e9a36",
   "metadata": {},
   "outputs": [],
   "source": [
    "mlr3 = linear_model.LinearRegression()\n",
    "poly2 = PolynomialFeatures(degree = 2, include_bias = False)\n",
    "cv3 = cross_validate(mlr3,\n",
    "                     poly2.fit_transform(X_train[['residual sugar','density', 'pH']].values),\n",
    "                     y_train.values,\n",
    "                     cv = 5,\n",
    "                     scoring = ('r2', 'neg_mean_squared_error'))"
   ]
  },
  {
   "cell_type": "markdown",
   "id": "c8da0bb2-d980-44b0-a152-56b1a8f4bff7",
   "metadata": {},
   "source": [
    "+ MLR with residual sugar, density and pH with quadratic terms, cubic terms and interaction terms."
   ]
  },
  {
   "cell_type": "code",
   "execution_count": 65,
   "id": "160ee0ef-f52d-4f34-b0d3-d5a6bbe5f6d8",
   "metadata": {},
   "outputs": [],
   "source": [
    "mlr4 = linear_model.LinearRegression()\n",
    "poly3 = PolynomialFeatures(degree = 3, include_bias = False)\n",
    "cv4 = cross_validate(mlr4,\n",
    "                     poly3.fit_transform(X_train[['residual sugar','density', 'pH']].values),\n",
    "                     y_train.values,\n",
    "                     cv = 5,\n",
    "                     scoring = ('r2', 'neg_mean_squared_error'))"
   ]
  },
  {
   "cell_type": "markdown",
   "id": "97bcc067-8322-4cf8-b8f2-07aecb66c152",
   "metadata": {},
   "source": [
    "Use CV to select the best MLR model"
   ]
  },
  {
   "cell_type": "code",
   "execution_count": 66,
   "id": "a64b4588-a7f2-4230-b8d0-23cddab179f8",
   "metadata": {},
   "outputs": [
    {
     "name": "stdout",
     "output_type": "stream",
     "text": [
      "-1.7386 -1.5164 -2.4233 -2.3054\n"
     ]
    }
   ],
   "source": [
    "print(round(sum(cv1['test_neg_mean_squared_error']),4),\n",
    "      round(sum(cv2['test_neg_mean_squared_error']),4),\n",
    "      round(sum(cv3['test_neg_mean_squared_error']),4),\n",
    "      round(sum(cv4['test_neg_mean_squared_error']),4))"
   ]
  },
  {
   "cell_type": "markdown",
   "id": "11e2f6da-81f9-4d1f-83ee-35ee695ede06",
   "metadata": {},
   "source": [
    "The negative mean squared error of -1.5164 indicates the best model is the second model."
   ]
  },
  {
   "cell_type": "markdown",
   "id": "d34a58b4-a83f-4a50-83ce-9659ae149da3",
   "metadata": {},
   "source": [
    "#### 2. Fit a LASSO model"
   ]
  },
  {
   "cell_type": "code",
   "execution_count": 67,
   "id": "fb54fcd3-28c5-4ae7-925d-a5472d312c88",
   "metadata": {},
   "outputs": [],
   "source": [
    "from sklearn.linear_model import LassoCV\n",
    "reg_Lasso = LassoCV(cv = 5, random_state = 0).fit(X_train[['fixed acidity','residual sugar','density','pH','sulphates']].values, y_train.values)"
   ]
  },
  {
   "cell_type": "markdown",
   "id": "cc868c33-2a44-4a35-85be-dd64e5b51716",
   "metadata": {},
   "source": [
    "Use CV to select the tuning parameter"
   ]
  },
  {
   "cell_type": "code",
   "execution_count": 68,
   "id": "2f95d3cd-f44a-40b2-8ace-0d7a4237a11c",
   "metadata": {},
   "outputs": [],
   "source": [
    "from sklearn.linear_model import Lasso\n",
    "Lasso = Lasso(reg_Lasso.alpha_).fit(X_train[['fixed acidity','residual sugar','density','pH','sulphates']].values, y_train.values)"
   ]
  },
  {
   "cell_type": "markdown",
   "id": "165c558c-0f5e-4458-beb0-e7aeb197cae6",
   "metadata": {},
   "source": [
    "#### 3. Fit a Ridge Regression Model"
   ]
  },
  {
   "cell_type": "code",
   "execution_count": 69,
   "id": "3110c283-7406-4830-ab8d-90f6b7513b9b",
   "metadata": {},
   "outputs": [],
   "source": [
    "from sklearn.linear_model import RidgeCV\n",
    "reg_Ridge = RidgeCV(cv = 5).fit(X_train[['fixed acidity','residual sugar','density','pH','sulphates']].values, y_train.values)"
   ]
  },
  {
   "cell_type": "markdown",
   "id": "5addd5c9-d3d0-4e32-9b5f-f87fd07487ed",
   "metadata": {},
   "source": [
    "Use CV to select the tuning parameter"
   ]
  },
  {
   "cell_type": "code",
   "execution_count": 70,
   "id": "156157b8-4ba8-4156-a255-c7c043d04c17",
   "metadata": {},
   "outputs": [],
   "source": [
    "from sklearn.linear_model import Ridge\n",
    "Ridge = Ridge(reg_Ridge.alpha_).fit(X_train[['fixed acidity','residual sugar','density','pH','sulphates']].values, y_train.values)"
   ]
  },
  {
   "cell_type": "markdown",
   "id": "39023b15-83fb-4062-9900-8292ed141ed2",
   "metadata": {},
   "source": [
    "#### 4. Fit an Elastic Net Model"
   ]
  },
  {
   "cell_type": "code",
   "execution_count": 71,
   "id": "46daf101-65af-4550-ab63-c94ca6ad1fcb",
   "metadata": {},
   "outputs": [],
   "source": [
    "from sklearn.linear_model import ElasticNetCV\n",
    "reg_EN = ElasticNetCV(cv = 5,\n",
    "                     random_state = 0,\n",
    "                     l1_ratio = [0.1, 0.25, 0.5, 0.75, 0.9, 0.95, 0.96, 0.98, 0.99, 1],\n",
    "                     n_alphas = 50).fit(X_train[['fixed acidity','residual sugar','density','pH','sulphates']].values, y_train.values)"
   ]
  },
  {
   "cell_type": "markdown",
   "id": "09aa813a-ab98-4b5e-95f6-3f34d7679673",
   "metadata": {},
   "source": [
    "Refit on full training data with best tuning parameters"
   ]
  },
  {
   "cell_type": "code",
   "execution_count": 72,
   "id": "3a4db073-2e1f-4ac2-aba5-08b6ecf8813c",
   "metadata": {},
   "outputs": [],
   "source": [
    "from sklearn.linear_model import ElasticNet\n",
    "EN = ElasticNet(alpha = reg_EN.alpha_, l1_ratio = reg_EN.l1_ratio_).fit(X_train[['fixed acidity','residual sugar','density','pH','sulphates']].values, y_train.values)"
   ]
  },
  {
   "cell_type": "markdown",
   "id": "0633884f-d241-402a-940d-b936d35cdfce",
   "metadata": {},
   "source": [
    "## Test Models\n",
    "Using your four selected models, compare their performance on the test set."
   ]
  },
  {
   "cell_type": "code",
   "execution_count": 73,
   "id": "6c27ab6d-3ebb-4765-8fdf-2cc49d56e2d7",
   "metadata": {},
   "outputs": [],
   "source": [
    "from sklearn.model_selection import cross_val_predict\n",
    "mlr2 = linear_model.LinearRegression()\n",
    "poly = PolynomialFeatures(interaction_only = True, include_bias = False)\n",
    "mlr_pred = cross_val_predict(mlr2,\n",
    "                     poly.fit_transform(X_test[['fixed acidity','residual sugar','density','pH','sulphates']].values),\n",
    "                     y_test.values,\n",
    "                     cv = 5)"
   ]
  },
  {
   "cell_type": "code",
   "execution_count": 74,
   "id": "9910ca21-f077-4785-a729-3a353d6fd145",
   "metadata": {},
   "outputs": [],
   "source": [
    "Lasso_pred = Lasso.predict(X_test[['fixed acidity','residual sugar','density','pH','sulphates']].values)\n",
    "Ridge_pred = Ridge.predict(X_test[['fixed acidity','residual sugar','density','pH','sulphates']].values)\n",
    "EN_pred = EN.predict(X_test[['fixed acidity','residual sugar','density','pH','sulphates']].values)"
   ]
  },
  {
   "cell_type": "markdown",
   "id": "43b1f5e1-2f7b-4de0-8fdc-ad2561985bbe",
   "metadata": {},
   "source": [
    "+ Using RMSE as model metric"
   ]
  },
  {
   "cell_type": "code",
   "execution_count": 75,
   "id": "a54edaf3-12af-4e70-be33-e52bd54679bb",
   "metadata": {},
   "outputs": [
    {
     "name": "stdout",
     "output_type": "stream",
     "text": [
      "[0.9259848727020377, 1.1488355339128369, 1.06468740113817, 1.148970504239183]\n"
     ]
    }
   ],
   "source": [
    "from sklearn.metrics import mean_squared_error\n",
    "print([np.sqrt(mean_squared_error(y_test, mlr_pred)),\n",
    "       np.sqrt(mean_squared_error(y_test, Lasso_pred)),\n",
    "       np.sqrt(mean_squared_error(y_test, Ridge_pred)),\n",
    "       np.sqrt(mean_squared_error(y_test, EN_pred))])"
   ]
  },
  {
   "cell_type": "markdown",
   "id": "898676e8-4abf-4458-9d7a-f9c1503661b7",
   "metadata": {},
   "source": [
    "The second MLR has the lowest RMSE of 0.926 indicating a better fit. Ridge Regression model has better performance than both Lasso model and ElasticNet model, who have the same RMSE."
   ]
  },
  {
   "cell_type": "markdown",
   "id": "c0697e32-fa56-4f06-809a-90a016b86124",
   "metadata": {},
   "source": [
    "+ Using MAE as model metric"
   ]
  },
  {
   "cell_type": "code",
   "execution_count": 76,
   "id": "4d909462-3ffe-46a0-9ad2-a86adeef7d48",
   "metadata": {},
   "outputs": [
    {
     "name": "stdout",
     "output_type": "stream",
     "text": [
      "[0.4367529343587056, 0.9306031779209479, 0.8541579493412735, 0.9312620451368903]\n"
     ]
    }
   ],
   "source": [
    "print([sum(abs(mlr_pred-y_test))/len(y_test),\n",
    "       sum(abs(Lasso_pred-y_test))/len(y_test),\n",
    "       sum(abs(Ridge_pred-y_test))/len(y_test),\n",
    "       sum(abs(EN_pred-y_test))/len(y_test)])"
   ]
  },
  {
   "cell_type": "markdown",
   "id": "63d51c7d-47dd-45a5-99e2-88856c0cf371",
   "metadata": {},
   "source": [
    "The second MLR has the lowest MAE of 0.437 indicating a better fit. Ridge Regression model has better performance than both Lasso model and ElasticNet model, who have the same MAE."
   ]
  },
  {
   "cell_type": "markdown",
   "id": "9c8dae03-4872-4139-87be-caee8c424086",
   "metadata": {},
   "source": [
    "## Classification Task (Wine Type as Response)"
   ]
  },
  {
   "cell_type": "markdown",
   "id": "9827b27d-add3-4ff8-a92c-53081d584458",
   "metadata": {},
   "source": [
    "### Split the data\n",
    "Split up the data set into a training and test set"
   ]
  },
  {
   "cell_type": "code",
   "execution_count": 77,
   "id": "69c03bc3-8e26-40d9-9076-9f1d204f853a",
   "metadata": {},
   "outputs": [],
   "source": [
    "X_train2, X_test2, y_train2, y_test2 = train_test_split(\n",
    "    wine_df.drop('type', axis = 1),\n",
    "    wine_df['type'], \n",
    "    test_size = 0.20,\n",
    "    random_state = 40)"
   ]
  },
  {
   "cell_type": "markdown",
   "id": "4faec0ea-d56b-4aeb-9ec4-bdaec7526f5a",
   "metadata": {},
   "source": [
    "### Fit logistic regression\n",
    "Use negative log-loss as the metric for choosing models during the training process"
   ]
  },
  {
   "cell_type": "markdown",
   "id": "bcd8295f-a54c-4db8-bbc1-2e15c1242358",
   "metadata": {},
   "source": [
    "#### 1. Fit a Regression Model without penalty"
   ]
  },
  {
   "cell_type": "code",
   "execution_count": 78,
   "id": "34ac989c-44da-4b1a-aefb-1f38b6bb0535",
   "metadata": {},
   "outputs": [],
   "source": [
    "from sklearn.linear_model import LogisticRegression\n",
    "log_reg_full = LogisticRegression(solver = 'newton-cholesky',\n",
    "                                  penalty = None,\n",
    "                                  random_state = 0)"
   ]
  },
  {
   "cell_type": "code",
   "execution_count": 79,
   "id": "5b8bcc02-a314-4f10-959e-4fa8f1c9ba56",
   "metadata": {},
   "outputs": [
    {
     "data": {
      "text/html": [
       "<style>#sk-container-id-1 {color: black;background-color: white;}#sk-container-id-1 pre{padding: 0;}#sk-container-id-1 div.sk-toggleable {background-color: white;}#sk-container-id-1 label.sk-toggleable__label {cursor: pointer;display: block;width: 100%;margin-bottom: 0;padding: 0.3em;box-sizing: border-box;text-align: center;}#sk-container-id-1 label.sk-toggleable__label-arrow:before {content: \"▸\";float: left;margin-right: 0.25em;color: #696969;}#sk-container-id-1 label.sk-toggleable__label-arrow:hover:before {color: black;}#sk-container-id-1 div.sk-estimator:hover label.sk-toggleable__label-arrow:before {color: black;}#sk-container-id-1 div.sk-toggleable__content {max-height: 0;max-width: 0;overflow: hidden;text-align: left;background-color: #f0f8ff;}#sk-container-id-1 div.sk-toggleable__content pre {margin: 0.2em;color: black;border-radius: 0.25em;background-color: #f0f8ff;}#sk-container-id-1 input.sk-toggleable__control:checked~div.sk-toggleable__content {max-height: 200px;max-width: 100%;overflow: auto;}#sk-container-id-1 input.sk-toggleable__control:checked~label.sk-toggleable__label-arrow:before {content: \"▾\";}#sk-container-id-1 div.sk-estimator input.sk-toggleable__control:checked~label.sk-toggleable__label {background-color: #d4ebff;}#sk-container-id-1 div.sk-label input.sk-toggleable__control:checked~label.sk-toggleable__label {background-color: #d4ebff;}#sk-container-id-1 input.sk-hidden--visually {border: 0;clip: rect(1px 1px 1px 1px);clip: rect(1px, 1px, 1px, 1px);height: 1px;margin: -1px;overflow: hidden;padding: 0;position: absolute;width: 1px;}#sk-container-id-1 div.sk-estimator {font-family: monospace;background-color: #f0f8ff;border: 1px dotted black;border-radius: 0.25em;box-sizing: border-box;margin-bottom: 0.5em;}#sk-container-id-1 div.sk-estimator:hover {background-color: #d4ebff;}#sk-container-id-1 div.sk-parallel-item::after {content: \"\";width: 100%;border-bottom: 1px solid gray;flex-grow: 1;}#sk-container-id-1 div.sk-label:hover label.sk-toggleable__label {background-color: #d4ebff;}#sk-container-id-1 div.sk-serial::before {content: \"\";position: absolute;border-left: 1px solid gray;box-sizing: border-box;top: 0;bottom: 0;left: 50%;z-index: 0;}#sk-container-id-1 div.sk-serial {display: flex;flex-direction: column;align-items: center;background-color: white;padding-right: 0.2em;padding-left: 0.2em;position: relative;}#sk-container-id-1 div.sk-item {position: relative;z-index: 1;}#sk-container-id-1 div.sk-parallel {display: flex;align-items: stretch;justify-content: center;background-color: white;position: relative;}#sk-container-id-1 div.sk-item::before, #sk-container-id-1 div.sk-parallel-item::before {content: \"\";position: absolute;border-left: 1px solid gray;box-sizing: border-box;top: 0;bottom: 0;left: 50%;z-index: -1;}#sk-container-id-1 div.sk-parallel-item {display: flex;flex-direction: column;z-index: 1;position: relative;background-color: white;}#sk-container-id-1 div.sk-parallel-item:first-child::after {align-self: flex-end;width: 50%;}#sk-container-id-1 div.sk-parallel-item:last-child::after {align-self: flex-start;width: 50%;}#sk-container-id-1 div.sk-parallel-item:only-child::after {width: 0;}#sk-container-id-1 div.sk-dashed-wrapped {border: 1px dashed gray;margin: 0 0.4em 0.5em 0.4em;box-sizing: border-box;padding-bottom: 0.4em;background-color: white;}#sk-container-id-1 div.sk-label label {font-family: monospace;font-weight: bold;display: inline-block;line-height: 1.2em;}#sk-container-id-1 div.sk-label-container {text-align: center;}#sk-container-id-1 div.sk-container {/* jupyter's `normalize.less` sets `[hidden] { display: none; }` but bootstrap.min.css set `[hidden] { display: none !important; }` so we also need the `!important` here to be able to override the default hidden behavior on the sphinx rendered scikit-learn.org. See: https://github.com/scikit-learn/scikit-learn/issues/21755 */display: inline-block !important;position: relative;}#sk-container-id-1 div.sk-text-repr-fallback {display: none;}</style><div id=\"sk-container-id-1\" class=\"sk-top-container\"><div class=\"sk-text-repr-fallback\"><pre>LogisticRegression(penalty=None, random_state=0, solver=&#x27;newton-cholesky&#x27;)</pre><b>In a Jupyter environment, please rerun this cell to show the HTML representation or trust the notebook. <br />On GitHub, the HTML representation is unable to render, please try loading this page with nbviewer.org.</b></div><div class=\"sk-container\" hidden><div class=\"sk-item\"><div class=\"sk-estimator sk-toggleable\"><input class=\"sk-toggleable__control sk-hidden--visually\" id=\"sk-estimator-id-1\" type=\"checkbox\" checked><label for=\"sk-estimator-id-1\" class=\"sk-toggleable__label sk-toggleable__label-arrow\">LogisticRegression</label><div class=\"sk-toggleable__content\"><pre>LogisticRegression(penalty=None, random_state=0, solver=&#x27;newton-cholesky&#x27;)</pre></div></div></div></div></div>"
      ],
      "text/plain": [
       "LogisticRegression(penalty=None, random_state=0, solver='newton-cholesky')"
      ]
     },
     "execution_count": 79,
     "metadata": {},
     "output_type": "execute_result"
    }
   ],
   "source": [
    "log_reg_full.fit(X_train2, y_train2)"
   ]
  },
  {
   "cell_type": "markdown",
   "id": "45671f34-c7fd-43be-9119-e4ee30e0ee82",
   "metadata": {},
   "source": [
    "#### 2. Fit a Lasso Regression Model"
   ]
  },
  {
   "cell_type": "code",
   "execution_count": 80,
   "id": "42aeba22-96fd-4939-b941-4d15997f0350",
   "metadata": {},
   "outputs": [],
   "source": [
    "from sklearn.linear_model import LogisticRegressionCV\n",
    "log_reg_cv1 = LogisticRegressionCV(cv = 5,\n",
    "                                   solver = 'saga',\n",
    "                                   penalty = 'l1',\n",
    "                                   Cs = 250,\n",
    "                                   scoring = 'neg_log_loss',\n",
    "                                   max_iter = 8000,\n",
    "                                   random_state = 5)"
   ]
  },
  {
   "cell_type": "code",
   "execution_count": 81,
   "id": "f10e8991-db9a-44a4-99fe-2808ccd0a758",
   "metadata": {},
   "outputs": [
    {
     "data": {
      "text/html": [
       "<style>#sk-container-id-2 {color: black;background-color: white;}#sk-container-id-2 pre{padding: 0;}#sk-container-id-2 div.sk-toggleable {background-color: white;}#sk-container-id-2 label.sk-toggleable__label {cursor: pointer;display: block;width: 100%;margin-bottom: 0;padding: 0.3em;box-sizing: border-box;text-align: center;}#sk-container-id-2 label.sk-toggleable__label-arrow:before {content: \"▸\";float: left;margin-right: 0.25em;color: #696969;}#sk-container-id-2 label.sk-toggleable__label-arrow:hover:before {color: black;}#sk-container-id-2 div.sk-estimator:hover label.sk-toggleable__label-arrow:before {color: black;}#sk-container-id-2 div.sk-toggleable__content {max-height: 0;max-width: 0;overflow: hidden;text-align: left;background-color: #f0f8ff;}#sk-container-id-2 div.sk-toggleable__content pre {margin: 0.2em;color: black;border-radius: 0.25em;background-color: #f0f8ff;}#sk-container-id-2 input.sk-toggleable__control:checked~div.sk-toggleable__content {max-height: 200px;max-width: 100%;overflow: auto;}#sk-container-id-2 input.sk-toggleable__control:checked~label.sk-toggleable__label-arrow:before {content: \"▾\";}#sk-container-id-2 div.sk-estimator input.sk-toggleable__control:checked~label.sk-toggleable__label {background-color: #d4ebff;}#sk-container-id-2 div.sk-label input.sk-toggleable__control:checked~label.sk-toggleable__label {background-color: #d4ebff;}#sk-container-id-2 input.sk-hidden--visually {border: 0;clip: rect(1px 1px 1px 1px);clip: rect(1px, 1px, 1px, 1px);height: 1px;margin: -1px;overflow: hidden;padding: 0;position: absolute;width: 1px;}#sk-container-id-2 div.sk-estimator {font-family: monospace;background-color: #f0f8ff;border: 1px dotted black;border-radius: 0.25em;box-sizing: border-box;margin-bottom: 0.5em;}#sk-container-id-2 div.sk-estimator:hover {background-color: #d4ebff;}#sk-container-id-2 div.sk-parallel-item::after {content: \"\";width: 100%;border-bottom: 1px solid gray;flex-grow: 1;}#sk-container-id-2 div.sk-label:hover label.sk-toggleable__label {background-color: #d4ebff;}#sk-container-id-2 div.sk-serial::before {content: \"\";position: absolute;border-left: 1px solid gray;box-sizing: border-box;top: 0;bottom: 0;left: 50%;z-index: 0;}#sk-container-id-2 div.sk-serial {display: flex;flex-direction: column;align-items: center;background-color: white;padding-right: 0.2em;padding-left: 0.2em;position: relative;}#sk-container-id-2 div.sk-item {position: relative;z-index: 1;}#sk-container-id-2 div.sk-parallel {display: flex;align-items: stretch;justify-content: center;background-color: white;position: relative;}#sk-container-id-2 div.sk-item::before, #sk-container-id-2 div.sk-parallel-item::before {content: \"\";position: absolute;border-left: 1px solid gray;box-sizing: border-box;top: 0;bottom: 0;left: 50%;z-index: -1;}#sk-container-id-2 div.sk-parallel-item {display: flex;flex-direction: column;z-index: 1;position: relative;background-color: white;}#sk-container-id-2 div.sk-parallel-item:first-child::after {align-self: flex-end;width: 50%;}#sk-container-id-2 div.sk-parallel-item:last-child::after {align-self: flex-start;width: 50%;}#sk-container-id-2 div.sk-parallel-item:only-child::after {width: 0;}#sk-container-id-2 div.sk-dashed-wrapped {border: 1px dashed gray;margin: 0 0.4em 0.5em 0.4em;box-sizing: border-box;padding-bottom: 0.4em;background-color: white;}#sk-container-id-2 div.sk-label label {font-family: monospace;font-weight: bold;display: inline-block;line-height: 1.2em;}#sk-container-id-2 div.sk-label-container {text-align: center;}#sk-container-id-2 div.sk-container {/* jupyter's `normalize.less` sets `[hidden] { display: none; }` but bootstrap.min.css set `[hidden] { display: none !important; }` so we also need the `!important` here to be able to override the default hidden behavior on the sphinx rendered scikit-learn.org. See: https://github.com/scikit-learn/scikit-learn/issues/21755 */display: inline-block !important;position: relative;}#sk-container-id-2 div.sk-text-repr-fallback {display: none;}</style><div id=\"sk-container-id-2\" class=\"sk-top-container\"><div class=\"sk-text-repr-fallback\"><pre>LogisticRegressionCV(Cs=250, cv=5, max_iter=8000, penalty=&#x27;l1&#x27;, random_state=5,\n",
       "                     scoring=&#x27;neg_log_loss&#x27;, solver=&#x27;saga&#x27;)</pre><b>In a Jupyter environment, please rerun this cell to show the HTML representation or trust the notebook. <br />On GitHub, the HTML representation is unable to render, please try loading this page with nbviewer.org.</b></div><div class=\"sk-container\" hidden><div class=\"sk-item\"><div class=\"sk-estimator sk-toggleable\"><input class=\"sk-toggleable__control sk-hidden--visually\" id=\"sk-estimator-id-2\" type=\"checkbox\" checked><label for=\"sk-estimator-id-2\" class=\"sk-toggleable__label sk-toggleable__label-arrow\">LogisticRegressionCV</label><div class=\"sk-toggleable__content\"><pre>LogisticRegressionCV(Cs=250, cv=5, max_iter=8000, penalty=&#x27;l1&#x27;, random_state=5,\n",
       "                     scoring=&#x27;neg_log_loss&#x27;, solver=&#x27;saga&#x27;)</pre></div></div></div></div></div>"
      ],
      "text/plain": [
       "LogisticRegressionCV(Cs=250, cv=5, max_iter=8000, penalty='l1', random_state=5,\n",
       "                     scoring='neg_log_loss', solver='saga')"
      ]
     },
     "execution_count": 81,
     "metadata": {},
     "output_type": "execute_result"
    }
   ],
   "source": [
    "log_reg_cv1.fit(X_train2, y_train2)"
   ]
  },
  {
   "cell_type": "code",
   "execution_count": 82,
   "id": "8944f502-4d7c-460f-bd8b-5dab977e4646",
   "metadata": {},
   "outputs": [],
   "source": [
    "log_reg_lasso = LogisticRegression(solver = 'saga',\n",
    "                                   penalty = 'l1',\n",
    "                                   C = log_reg_cv1.C_[0],\n",
    "                                   max_iter = 8000,\n",
    "                                   random_state = 10)\n",
    "log_reg_lasso_fit = log_reg_lasso.fit(X_train2, y_train2)"
   ]
  },
  {
   "cell_type": "markdown",
   "id": "1e6d4253-df75-4aea-a30f-d2b3850a6a3b",
   "metadata": {},
   "source": [
    "#### 3. Fit a Ridge Regression Model"
   ]
  },
  {
   "cell_type": "code",
   "execution_count": 83,
   "id": "88644b69-1987-4d8a-882b-bd9d6d8490de",
   "metadata": {},
   "outputs": [],
   "source": [
    "log_reg_cv2 = LogisticRegressionCV(cv = 5,\n",
    "                                   solver = 'saga',\n",
    "                                   penalty = 'l2',\n",
    "                                   Cs = 250,\n",
    "                                   max_iter = 8000,\n",
    "                                   scoring = 'neg_log_loss',\n",
    "                                   random_state = 10)"
   ]
  },
  {
   "cell_type": "code",
   "execution_count": 84,
   "id": "234f1627-8e48-4eaf-8919-2f9a2e8ea19e",
   "metadata": {},
   "outputs": [
    {
     "data": {
      "text/html": [
       "<style>#sk-container-id-3 {color: black;background-color: white;}#sk-container-id-3 pre{padding: 0;}#sk-container-id-3 div.sk-toggleable {background-color: white;}#sk-container-id-3 label.sk-toggleable__label {cursor: pointer;display: block;width: 100%;margin-bottom: 0;padding: 0.3em;box-sizing: border-box;text-align: center;}#sk-container-id-3 label.sk-toggleable__label-arrow:before {content: \"▸\";float: left;margin-right: 0.25em;color: #696969;}#sk-container-id-3 label.sk-toggleable__label-arrow:hover:before {color: black;}#sk-container-id-3 div.sk-estimator:hover label.sk-toggleable__label-arrow:before {color: black;}#sk-container-id-3 div.sk-toggleable__content {max-height: 0;max-width: 0;overflow: hidden;text-align: left;background-color: #f0f8ff;}#sk-container-id-3 div.sk-toggleable__content pre {margin: 0.2em;color: black;border-radius: 0.25em;background-color: #f0f8ff;}#sk-container-id-3 input.sk-toggleable__control:checked~div.sk-toggleable__content {max-height: 200px;max-width: 100%;overflow: auto;}#sk-container-id-3 input.sk-toggleable__control:checked~label.sk-toggleable__label-arrow:before {content: \"▾\";}#sk-container-id-3 div.sk-estimator input.sk-toggleable__control:checked~label.sk-toggleable__label {background-color: #d4ebff;}#sk-container-id-3 div.sk-label input.sk-toggleable__control:checked~label.sk-toggleable__label {background-color: #d4ebff;}#sk-container-id-3 input.sk-hidden--visually {border: 0;clip: rect(1px 1px 1px 1px);clip: rect(1px, 1px, 1px, 1px);height: 1px;margin: -1px;overflow: hidden;padding: 0;position: absolute;width: 1px;}#sk-container-id-3 div.sk-estimator {font-family: monospace;background-color: #f0f8ff;border: 1px dotted black;border-radius: 0.25em;box-sizing: border-box;margin-bottom: 0.5em;}#sk-container-id-3 div.sk-estimator:hover {background-color: #d4ebff;}#sk-container-id-3 div.sk-parallel-item::after {content: \"\";width: 100%;border-bottom: 1px solid gray;flex-grow: 1;}#sk-container-id-3 div.sk-label:hover label.sk-toggleable__label {background-color: #d4ebff;}#sk-container-id-3 div.sk-serial::before {content: \"\";position: absolute;border-left: 1px solid gray;box-sizing: border-box;top: 0;bottom: 0;left: 50%;z-index: 0;}#sk-container-id-3 div.sk-serial {display: flex;flex-direction: column;align-items: center;background-color: white;padding-right: 0.2em;padding-left: 0.2em;position: relative;}#sk-container-id-3 div.sk-item {position: relative;z-index: 1;}#sk-container-id-3 div.sk-parallel {display: flex;align-items: stretch;justify-content: center;background-color: white;position: relative;}#sk-container-id-3 div.sk-item::before, #sk-container-id-3 div.sk-parallel-item::before {content: \"\";position: absolute;border-left: 1px solid gray;box-sizing: border-box;top: 0;bottom: 0;left: 50%;z-index: -1;}#sk-container-id-3 div.sk-parallel-item {display: flex;flex-direction: column;z-index: 1;position: relative;background-color: white;}#sk-container-id-3 div.sk-parallel-item:first-child::after {align-self: flex-end;width: 50%;}#sk-container-id-3 div.sk-parallel-item:last-child::after {align-self: flex-start;width: 50%;}#sk-container-id-3 div.sk-parallel-item:only-child::after {width: 0;}#sk-container-id-3 div.sk-dashed-wrapped {border: 1px dashed gray;margin: 0 0.4em 0.5em 0.4em;box-sizing: border-box;padding-bottom: 0.4em;background-color: white;}#sk-container-id-3 div.sk-label label {font-family: monospace;font-weight: bold;display: inline-block;line-height: 1.2em;}#sk-container-id-3 div.sk-label-container {text-align: center;}#sk-container-id-3 div.sk-container {/* jupyter's `normalize.less` sets `[hidden] { display: none; }` but bootstrap.min.css set `[hidden] { display: none !important; }` so we also need the `!important` here to be able to override the default hidden behavior on the sphinx rendered scikit-learn.org. See: https://github.com/scikit-learn/scikit-learn/issues/21755 */display: inline-block !important;position: relative;}#sk-container-id-3 div.sk-text-repr-fallback {display: none;}</style><div id=\"sk-container-id-3\" class=\"sk-top-container\"><div class=\"sk-text-repr-fallback\"><pre>LogisticRegressionCV(Cs=250, cv=5, max_iter=8000, random_state=10,\n",
       "                     scoring=&#x27;neg_log_loss&#x27;, solver=&#x27;saga&#x27;)</pre><b>In a Jupyter environment, please rerun this cell to show the HTML representation or trust the notebook. <br />On GitHub, the HTML representation is unable to render, please try loading this page with nbviewer.org.</b></div><div class=\"sk-container\" hidden><div class=\"sk-item\"><div class=\"sk-estimator sk-toggleable\"><input class=\"sk-toggleable__control sk-hidden--visually\" id=\"sk-estimator-id-3\" type=\"checkbox\" checked><label for=\"sk-estimator-id-3\" class=\"sk-toggleable__label sk-toggleable__label-arrow\">LogisticRegressionCV</label><div class=\"sk-toggleable__content\"><pre>LogisticRegressionCV(Cs=250, cv=5, max_iter=8000, random_state=10,\n",
       "                     scoring=&#x27;neg_log_loss&#x27;, solver=&#x27;saga&#x27;)</pre></div></div></div></div></div>"
      ],
      "text/plain": [
       "LogisticRegressionCV(Cs=250, cv=5, max_iter=8000, random_state=10,\n",
       "                     scoring='neg_log_loss', solver='saga')"
      ]
     },
     "execution_count": 84,
     "metadata": {},
     "output_type": "execute_result"
    }
   ],
   "source": [
    "log_reg_cv2.fit(X_train2, y_train2)"
   ]
  },
  {
   "cell_type": "code",
   "execution_count": 85,
   "id": "e110cb21-d6b9-4461-b1a2-ab8a7b7e248a",
   "metadata": {},
   "outputs": [],
   "source": [
    "log_reg_ridge = LogisticRegression(solver = 'saga',\n",
    "                                    penalty = 'l2',\n",
    "                                    C = log_reg_cv2.C_[0],\n",
    "                                    max_iter = 8000,\n",
    "                                    random_state = 10)\n",
    "log_reg_ridge_fit = log_reg_ridge.fit(X_train2, y_train2)"
   ]
  },
  {
   "cell_type": "markdown",
   "id": "4a1e0f88-c357-4c76-9c88-9c258bff3035",
   "metadata": {},
   "source": [
    "#### 4. Fit an Elastic Net Model"
   ]
  },
  {
   "cell_type": "code",
   "execution_count": 86,
   "id": "e4d4aecb-9e39-4c44-9d90-75e154c9ec8b",
   "metadata": {},
   "outputs": [],
   "source": [
    "log_reg_cv3 = LogisticRegressionCV(cv = 5,\n",
    "                                   solver = 'saga',\n",
    "                                   penalty = 'elasticnet',\n",
    "                                   Cs = 250,\n",
    "                                   max_iter = 8000,\n",
    "                                   scoring = 'neg_log_loss',\n",
    "                                   l1_ratios = [0.1, 0.25, 0.5, 0.75, 0.9, 0.95, 0.96, 0.98, 0.99, 1],\n",
    "                                   tol = 0.001,\n",
    "                                   random_state = 10)"
   ]
  },
  {
   "cell_type": "code",
   "execution_count": 87,
   "id": "52c5ee7a-607f-462f-a059-6a3e0a03bb7b",
   "metadata": {},
   "outputs": [
    {
     "data": {
      "text/html": [
       "<style>#sk-container-id-4 {color: black;background-color: white;}#sk-container-id-4 pre{padding: 0;}#sk-container-id-4 div.sk-toggleable {background-color: white;}#sk-container-id-4 label.sk-toggleable__label {cursor: pointer;display: block;width: 100%;margin-bottom: 0;padding: 0.3em;box-sizing: border-box;text-align: center;}#sk-container-id-4 label.sk-toggleable__label-arrow:before {content: \"▸\";float: left;margin-right: 0.25em;color: #696969;}#sk-container-id-4 label.sk-toggleable__label-arrow:hover:before {color: black;}#sk-container-id-4 div.sk-estimator:hover label.sk-toggleable__label-arrow:before {color: black;}#sk-container-id-4 div.sk-toggleable__content {max-height: 0;max-width: 0;overflow: hidden;text-align: left;background-color: #f0f8ff;}#sk-container-id-4 div.sk-toggleable__content pre {margin: 0.2em;color: black;border-radius: 0.25em;background-color: #f0f8ff;}#sk-container-id-4 input.sk-toggleable__control:checked~div.sk-toggleable__content {max-height: 200px;max-width: 100%;overflow: auto;}#sk-container-id-4 input.sk-toggleable__control:checked~label.sk-toggleable__label-arrow:before {content: \"▾\";}#sk-container-id-4 div.sk-estimator input.sk-toggleable__control:checked~label.sk-toggleable__label {background-color: #d4ebff;}#sk-container-id-4 div.sk-label input.sk-toggleable__control:checked~label.sk-toggleable__label {background-color: #d4ebff;}#sk-container-id-4 input.sk-hidden--visually {border: 0;clip: rect(1px 1px 1px 1px);clip: rect(1px, 1px, 1px, 1px);height: 1px;margin: -1px;overflow: hidden;padding: 0;position: absolute;width: 1px;}#sk-container-id-4 div.sk-estimator {font-family: monospace;background-color: #f0f8ff;border: 1px dotted black;border-radius: 0.25em;box-sizing: border-box;margin-bottom: 0.5em;}#sk-container-id-4 div.sk-estimator:hover {background-color: #d4ebff;}#sk-container-id-4 div.sk-parallel-item::after {content: \"\";width: 100%;border-bottom: 1px solid gray;flex-grow: 1;}#sk-container-id-4 div.sk-label:hover label.sk-toggleable__label {background-color: #d4ebff;}#sk-container-id-4 div.sk-serial::before {content: \"\";position: absolute;border-left: 1px solid gray;box-sizing: border-box;top: 0;bottom: 0;left: 50%;z-index: 0;}#sk-container-id-4 div.sk-serial {display: flex;flex-direction: column;align-items: center;background-color: white;padding-right: 0.2em;padding-left: 0.2em;position: relative;}#sk-container-id-4 div.sk-item {position: relative;z-index: 1;}#sk-container-id-4 div.sk-parallel {display: flex;align-items: stretch;justify-content: center;background-color: white;position: relative;}#sk-container-id-4 div.sk-item::before, #sk-container-id-4 div.sk-parallel-item::before {content: \"\";position: absolute;border-left: 1px solid gray;box-sizing: border-box;top: 0;bottom: 0;left: 50%;z-index: -1;}#sk-container-id-4 div.sk-parallel-item {display: flex;flex-direction: column;z-index: 1;position: relative;background-color: white;}#sk-container-id-4 div.sk-parallel-item:first-child::after {align-self: flex-end;width: 50%;}#sk-container-id-4 div.sk-parallel-item:last-child::after {align-self: flex-start;width: 50%;}#sk-container-id-4 div.sk-parallel-item:only-child::after {width: 0;}#sk-container-id-4 div.sk-dashed-wrapped {border: 1px dashed gray;margin: 0 0.4em 0.5em 0.4em;box-sizing: border-box;padding-bottom: 0.4em;background-color: white;}#sk-container-id-4 div.sk-label label {font-family: monospace;font-weight: bold;display: inline-block;line-height: 1.2em;}#sk-container-id-4 div.sk-label-container {text-align: center;}#sk-container-id-4 div.sk-container {/* jupyter's `normalize.less` sets `[hidden] { display: none; }` but bootstrap.min.css set `[hidden] { display: none !important; }` so we also need the `!important` here to be able to override the default hidden behavior on the sphinx rendered scikit-learn.org. See: https://github.com/scikit-learn/scikit-learn/issues/21755 */display: inline-block !important;position: relative;}#sk-container-id-4 div.sk-text-repr-fallback {display: none;}</style><div id=\"sk-container-id-4\" class=\"sk-top-container\"><div class=\"sk-text-repr-fallback\"><pre>LogisticRegressionCV(Cs=250, cv=5,\n",
       "                     l1_ratios=[0.1, 0.25, 0.5, 0.75, 0.9, 0.95, 0.96, 0.98,\n",
       "                                0.99, 1],\n",
       "                     max_iter=8000, penalty=&#x27;elasticnet&#x27;, random_state=10,\n",
       "                     scoring=&#x27;neg_log_loss&#x27;, solver=&#x27;saga&#x27;, tol=0.001)</pre><b>In a Jupyter environment, please rerun this cell to show the HTML representation or trust the notebook. <br />On GitHub, the HTML representation is unable to render, please try loading this page with nbviewer.org.</b></div><div class=\"sk-container\" hidden><div class=\"sk-item\"><div class=\"sk-estimator sk-toggleable\"><input class=\"sk-toggleable__control sk-hidden--visually\" id=\"sk-estimator-id-4\" type=\"checkbox\" checked><label for=\"sk-estimator-id-4\" class=\"sk-toggleable__label sk-toggleable__label-arrow\">LogisticRegressionCV</label><div class=\"sk-toggleable__content\"><pre>LogisticRegressionCV(Cs=250, cv=5,\n",
       "                     l1_ratios=[0.1, 0.25, 0.5, 0.75, 0.9, 0.95, 0.96, 0.98,\n",
       "                                0.99, 1],\n",
       "                     max_iter=8000, penalty=&#x27;elasticnet&#x27;, random_state=10,\n",
       "                     scoring=&#x27;neg_log_loss&#x27;, solver=&#x27;saga&#x27;, tol=0.001)</pre></div></div></div></div></div>"
      ],
      "text/plain": [
       "LogisticRegressionCV(Cs=250, cv=5,\n",
       "                     l1_ratios=[0.1, 0.25, 0.5, 0.75, 0.9, 0.95, 0.96, 0.98,\n",
       "                                0.99, 1],\n",
       "                     max_iter=8000, penalty='elasticnet', random_state=10,\n",
       "                     scoring='neg_log_loss', solver='saga', tol=0.001)"
      ]
     },
     "execution_count": 87,
     "metadata": {},
     "output_type": "execute_result"
    }
   ],
   "source": [
    "log_reg_cv3.fit(X_train2, y_train2)"
   ]
  },
  {
   "cell_type": "code",
   "execution_count": 95,
   "id": "58bfe530-28f1-4b50-a85b-75001e87f80a",
   "metadata": {},
   "outputs": [],
   "source": [
    "from sklearn.linear_model import LogisticRegression\n",
    "log_reg_elastic = LogisticRegression(solver = 'saga',\n",
    "                                    penalty = 'elasticnet',\n",
    "                                    l1_ratio = log_reg_cv3.l1_ratio_[0],\n",
    "                                    C = log_reg_cv3.C_[0],\n",
    "                                     max_iter = 8000,\n",
    "                                    random_state = 5)\n",
    "log_reg_elastic_fit = log_reg_elastic.fit(X_train2, y_train2)"
   ]
  },
  {
   "cell_type": "markdown",
   "id": "9cd3d969-0c77-476d-8ba4-dfa3e9a59201",
   "metadata": {
    "tags": []
   },
   "source": [
    "### Compare your models on both log-loss and accuracy"
   ]
  },
  {
   "cell_type": "code",
   "execution_count": 96,
   "id": "801b2a2e-03ad-495e-9f82-7d75d5378a2c",
   "metadata": {},
   "outputs": [],
   "source": [
    "cv_proba_preds_full = log_reg_full.predict_proba(X_test2)\n",
    "cv_proba_preds_lasso = log_reg_lasso.predict_proba(X_test2)\n",
    "cv_proba_preds_ridge = log_reg_ridge.predict_proba(X_test2)\n",
    "cv_proba_preds_elastic = log_reg_elastic.predict_proba(X_test2)"
   ]
  },
  {
   "cell_type": "code",
   "execution_count": 97,
   "id": "beba79df-d80f-4702-8166-198f3f1a7fd4",
   "metadata": {},
   "outputs": [
    {
     "name": "stdout",
     "output_type": "stream",
     "text": [
      "[0.058538477010746014, 0.09254222903934638, 0.09254229518442608, 0.09254167348009674]\n"
     ]
    }
   ],
   "source": [
    "from sklearn.metrics import log_loss, accuracy_score\n",
    "print([log_loss(y_test2, cv_proba_preds_full),\n",
    "       log_loss(y_test2, cv_proba_preds_lasso),\n",
    "       log_loss(y_test2, cv_proba_preds_ridge),\n",
    "       log_loss(y_test2, cv_proba_preds_elastic)])"
   ]
  },
  {
   "cell_type": "code",
   "execution_count": 98,
   "id": "66fa8a88-35a7-4e68-a30d-b7b000f3dd85",
   "metadata": {},
   "outputs": [
    {
     "name": "stdout",
     "output_type": "stream",
     "text": [
      "[0.9938461538461538, 0.9769230769230769, 0.9769230769230769, 0.9769230769230769]\n"
     ]
    }
   ],
   "source": [
    "cv_preds_full = log_reg_full.predict(X_test2)\n",
    "cv_preds_lasso = log_reg_lasso.predict(X_test2)\n",
    "cv_preds_ridge = log_reg_ridge.predict(X_test2)\n",
    "cv_preds_elastic = log_reg_elastic.predict(X_test2)\n",
    "print([accuracy_score(y_test2, cv_preds_full),\n",
    "       accuracy_score(y_test2, cv_preds_lasso),\n",
    "       accuracy_score(y_test2, cv_preds_ridge),\n",
    "       accuracy_score(y_test2, cv_preds_elastic)])"
   ]
  },
  {
   "cell_type": "markdown",
   "id": "506ff453-cc41-4e82-a6de-f428e765f4f3",
   "metadata": {},
   "source": [
    "The best logistic regression model is the full model, which has the minimum log-loss of 0.585 and maximum accuracy of 0.994."
   ]
  }
 ],
 "metadata": {
  "kernelspec": {
   "display_name": "Python 3 (ipykernel)",
   "language": "python",
   "name": "python3"
  },
  "language_info": {
   "codemirror_mode": {
    "name": "ipython",
    "version": 3
   },
   "file_extension": ".py",
   "mimetype": "text/x-python",
   "name": "python",
   "nbconvert_exporter": "python",
   "pygments_lexer": "ipython3",
   "version": "3.10.8"
  }
 },
 "nbformat": 4,
 "nbformat_minor": 5
}
